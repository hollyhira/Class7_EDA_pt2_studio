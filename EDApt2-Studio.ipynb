{
 "cells": [
  {
   "cell_type": "markdown",
   "id": "2f470e67-1623-4416-b9c2-8367f7834a26",
   "metadata": {},
   "source": [
    "# EDA part 2 Studio\n",
    "\n",
    "## Further Analysis of IMDB movies\n",
    "\n",
    "In this studio, we're returning to this [tutorial](https://towardsdatascience.com/understand-the-data-with-univariate-and-multivariate-charts-and-plots-in-python-3b9fcd68cd8) as a reference guide for our EDA.\n",
    "You've seen the data set before and you've worked through similar kinds of questions with the heart disease dataset. \n",
    "\n",
    "Blocks have been created for your code and we've asked you to add more in some places.\n",
    "\n",
    "The dataset from [Kaggle](https://www.kaggle.com/PromptCloudHQ/imdb-data)"
   ]
  },
  {
   "cell_type": "markdown",
   "id": "34632281-1e15-44b1-a3e3-b82ddacb5cbd",
   "metadata": {},
   "source": [
    "### 1. Find the relative proportions of movie genres represented."
   ]
  },
  {
   "cell_type": "code",
   "execution_count": 1,
   "id": "070ebed9-c948-4821-9a24-67f0e3fe8fce",
   "metadata": {},
   "outputs": [],
   "source": [
    "# import dependencies \n",
    "import pandas as pd\n",
    "import matplotlib.pyplot as plt\n",
    "import seaborn as sns\n",
    "import numpy as np\n",
    "import plotly\n",
    "import plotly.express as px\n",
    "\n",
    "# create your data variabe using .read_csv \n",
    "\n",
    "# get reaquainted with the data by viewing the first 5 rows"
   ]
  },
  {
   "cell_type": "code",
   "execution_count": null,
   "id": "725a8998",
   "metadata": {},
   "outputs": [],
   "source": [
    "#pd.set_option('display.max_rows', None) \n",
    "#run more rows than what is usually shown. See all rows"
   ]
  },
  {
   "cell_type": "code",
   "execution_count": 2,
   "id": "3dd2542c",
   "metadata": {},
   "outputs": [],
   "source": [
    "df=pd.read_csv('IMDB-Movie-Data.csv')"
   ]
  },
  {
   "cell_type": "code",
   "execution_count": 3,
   "id": "8aab9dad",
   "metadata": {},
   "outputs": [
    {
     "data": {
      "text/html": [
       "<div>\n",
       "<style scoped>\n",
       "    .dataframe tbody tr th:only-of-type {\n",
       "        vertical-align: middle;\n",
       "    }\n",
       "\n",
       "    .dataframe tbody tr th {\n",
       "        vertical-align: top;\n",
       "    }\n",
       "\n",
       "    .dataframe thead th {\n",
       "        text-align: right;\n",
       "    }\n",
       "</style>\n",
       "<table border=\"1\" class=\"dataframe\">\n",
       "  <thead>\n",
       "    <tr style=\"text-align: right;\">\n",
       "      <th></th>\n",
       "      <th>Rank</th>\n",
       "      <th>Title</th>\n",
       "      <th>Genre</th>\n",
       "      <th>Description</th>\n",
       "      <th>Director</th>\n",
       "      <th>Actors</th>\n",
       "      <th>Year</th>\n",
       "      <th>Runtime (Minutes)</th>\n",
       "      <th>Rating</th>\n",
       "      <th>Votes</th>\n",
       "      <th>Revenue (Millions)</th>\n",
       "      <th>Metascore</th>\n",
       "    </tr>\n",
       "  </thead>\n",
       "  <tbody>\n",
       "    <tr>\n",
       "      <th>0</th>\n",
       "      <td>1</td>\n",
       "      <td>Guardians of the Galaxy</td>\n",
       "      <td>Action,Adventure,Sci-Fi</td>\n",
       "      <td>A group of intergalactic criminals are forced ...</td>\n",
       "      <td>James Gunn</td>\n",
       "      <td>Chris Pratt, Vin Diesel, Bradley Cooper, Zoe S...</td>\n",
       "      <td>2014</td>\n",
       "      <td>121</td>\n",
       "      <td>8.1</td>\n",
       "      <td>757074</td>\n",
       "      <td>333.13</td>\n",
       "      <td>76.0</td>\n",
       "    </tr>\n",
       "    <tr>\n",
       "      <th>1</th>\n",
       "      <td>2</td>\n",
       "      <td>Prometheus</td>\n",
       "      <td>Adventure,Mystery,Sci-Fi</td>\n",
       "      <td>Following clues to the origin of mankind, a te...</td>\n",
       "      <td>Ridley Scott</td>\n",
       "      <td>Noomi Rapace, Logan Marshall-Green, Michael Fa...</td>\n",
       "      <td>2012</td>\n",
       "      <td>124</td>\n",
       "      <td>7.0</td>\n",
       "      <td>485820</td>\n",
       "      <td>126.46</td>\n",
       "      <td>65.0</td>\n",
       "    </tr>\n",
       "    <tr>\n",
       "      <th>2</th>\n",
       "      <td>3</td>\n",
       "      <td>Split</td>\n",
       "      <td>Horror,Thriller</td>\n",
       "      <td>Three girls are kidnapped by a man with a diag...</td>\n",
       "      <td>M. Night Shyamalan</td>\n",
       "      <td>James McAvoy, Anya Taylor-Joy, Haley Lu Richar...</td>\n",
       "      <td>2016</td>\n",
       "      <td>117</td>\n",
       "      <td>7.3</td>\n",
       "      <td>157606</td>\n",
       "      <td>138.12</td>\n",
       "      <td>62.0</td>\n",
       "    </tr>\n",
       "    <tr>\n",
       "      <th>3</th>\n",
       "      <td>4</td>\n",
       "      <td>Sing</td>\n",
       "      <td>Animation,Comedy,Family</td>\n",
       "      <td>In a city of humanoid animals, a hustling thea...</td>\n",
       "      <td>Christophe Lourdelet</td>\n",
       "      <td>Matthew McConaughey,Reese Witherspoon, Seth Ma...</td>\n",
       "      <td>2016</td>\n",
       "      <td>108</td>\n",
       "      <td>7.2</td>\n",
       "      <td>60545</td>\n",
       "      <td>270.32</td>\n",
       "      <td>59.0</td>\n",
       "    </tr>\n",
       "    <tr>\n",
       "      <th>4</th>\n",
       "      <td>5</td>\n",
       "      <td>Suicide Squad</td>\n",
       "      <td>Action,Adventure,Fantasy</td>\n",
       "      <td>A secret government agency recruits some of th...</td>\n",
       "      <td>David Ayer</td>\n",
       "      <td>Will Smith, Jared Leto, Margot Robbie, Viola D...</td>\n",
       "      <td>2016</td>\n",
       "      <td>123</td>\n",
       "      <td>6.2</td>\n",
       "      <td>393727</td>\n",
       "      <td>325.02</td>\n",
       "      <td>40.0</td>\n",
       "    </tr>\n",
       "  </tbody>\n",
       "</table>\n",
       "</div>"
      ],
      "text/plain": [
       "   Rank                    Title                     Genre  \\\n",
       "0     1  Guardians of the Galaxy   Action,Adventure,Sci-Fi   \n",
       "1     2               Prometheus  Adventure,Mystery,Sci-Fi   \n",
       "2     3                    Split           Horror,Thriller   \n",
       "3     4                     Sing   Animation,Comedy,Family   \n",
       "4     5            Suicide Squad  Action,Adventure,Fantasy   \n",
       "\n",
       "                                         Description              Director  \\\n",
       "0  A group of intergalactic criminals are forced ...            James Gunn   \n",
       "1  Following clues to the origin of mankind, a te...          Ridley Scott   \n",
       "2  Three girls are kidnapped by a man with a diag...    M. Night Shyamalan   \n",
       "3  In a city of humanoid animals, a hustling thea...  Christophe Lourdelet   \n",
       "4  A secret government agency recruits some of th...            David Ayer   \n",
       "\n",
       "                                              Actors  Year  Runtime (Minutes)  \\\n",
       "0  Chris Pratt, Vin Diesel, Bradley Cooper, Zoe S...  2014                121   \n",
       "1  Noomi Rapace, Logan Marshall-Green, Michael Fa...  2012                124   \n",
       "2  James McAvoy, Anya Taylor-Joy, Haley Lu Richar...  2016                117   \n",
       "3  Matthew McConaughey,Reese Witherspoon, Seth Ma...  2016                108   \n",
       "4  Will Smith, Jared Leto, Margot Robbie, Viola D...  2016                123   \n",
       "\n",
       "   Rating   Votes  Revenue (Millions)  Metascore  \n",
       "0     8.1  757074              333.13       76.0  \n",
       "1     7.0  485820              126.46       65.0  \n",
       "2     7.3  157606              138.12       62.0  \n",
       "3     7.2   60545              270.32       59.0  \n",
       "4     6.2  393727              325.02       40.0  "
      ]
     },
     "execution_count": 3,
     "metadata": {},
     "output_type": "execute_result"
    }
   ],
   "source": [
    "df.head()"
   ]
  },
  {
   "cell_type": "code",
   "execution_count": 4,
   "id": "e8f7f6c5",
   "metadata": {},
   "outputs": [
    {
     "data": {
      "text/plain": [
       "Index(['Rank', 'Title', 'Genre', 'Description', 'Director', 'Actors', 'Year',\n",
       "       'Runtime (Minutes)', 'Rating', 'Votes', 'Revenue (Millions)',\n",
       "       'Metascore'],\n",
       "      dtype='object')"
      ]
     },
     "execution_count": 4,
     "metadata": {},
     "output_type": "execute_result"
    }
   ],
   "source": [
    "# list the column names\n",
    "df.columns"
   ]
  },
  {
   "cell_type": "code",
   "execution_count": 5,
   "id": "dfd297f7",
   "metadata": {},
   "outputs": [
    {
     "data": {
      "text/plain": [
       "0       Action,Adventure,Sci-Fi\n",
       "1      Adventure,Mystery,Sci-Fi\n",
       "2               Horror,Thriller\n",
       "3       Animation,Comedy,Family\n",
       "4      Action,Adventure,Fantasy\n",
       "                 ...           \n",
       "995         Crime,Drama,Mystery\n",
       "996                      Horror\n",
       "997         Drama,Music,Romance\n",
       "998            Adventure,Comedy\n",
       "999       Comedy,Family,Fantasy\n",
       "Name: Genre, Length: 1000, dtype: object"
      ]
     },
     "execution_count": 5,
     "metadata": {},
     "output_type": "execute_result"
    }
   ],
   "source": [
    "# preview the contents of the 'Genre' column only\n",
    "df['Genre']"
   ]
  },
  {
   "cell_type": "code",
   "execution_count": 6,
   "id": "454c869c",
   "metadata": {},
   "outputs": [
    {
     "data": {
      "text/plain": [
       "0     Action,Adventure,Sci-Fi\n",
       "1    Adventure,Mystery,Sci-Fi\n",
       "2             Horror,Thriller\n",
       "3     Animation,Comedy,Family\n",
       "4    Action,Adventure,Fantasy\n",
       "Name: Genre, dtype: object"
      ]
     },
     "execution_count": 6,
     "metadata": {},
     "output_type": "execute_result"
    }
   ],
   "source": [
    "df['Genre'].head()"
   ]
  },
  {
   "cell_type": "code",
   "execution_count": 7,
   "id": "219a2ac1",
   "metadata": {},
   "outputs": [
    {
     "data": {
      "text/plain": [
       "Action,Adventure,Sci-Fi    50\n",
       "Drama                      48\n",
       "Comedy,Drama,Romance       35\n",
       "Comedy                     32\n",
       "Drama,Romance              31\n",
       "                           ..\n",
       "Drama,Romance,War           1\n",
       "Action,Horror               1\n",
       "Biography,Drama,Mystery     1\n",
       "Comedy,Horror,Sci-Fi        1\n",
       "Drama,Fantasy,Thriller      1\n",
       "Name: Genre, Length: 207, dtype: int64"
      ]
     },
     "execution_count": 7,
     "metadata": {},
     "output_type": "execute_result"
    }
   ],
   "source": [
    "# using the .value_counts() method, explore the number of each genre type in the series\n",
    "# assign the result to a variable called genre_counts\n",
    "\n",
    "genre_counts=df['Genre'].value_counts()\n",
    "\n",
    "genre_counts\n"
   ]
  },
  {
   "cell_type": "code",
   "execution_count": 8,
   "id": "18a594b5",
   "metadata": {},
   "outputs": [],
   "source": [
    "#df['Genre'].tail(25)"
   ]
  },
  {
   "cell_type": "code",
   "execution_count": 9,
   "id": "4adcdd70",
   "metadata": {},
   "outputs": [
    {
     "data": {
      "text/plain": [
       "Action,Adventure,Sci-Fi    0.050\n",
       "Drama                      0.048\n",
       "Comedy,Drama,Romance       0.035\n",
       "Comedy                     0.032\n",
       "Drama,Romance              0.031\n",
       "                           ...  \n",
       "Drama,Romance,War          0.001\n",
       "Action,Horror              0.001\n",
       "Biography,Drama,Mystery    0.001\n",
       "Comedy,Horror,Sci-Fi       0.001\n",
       "Drama,Fantasy,Thriller     0.001\n",
       "Name: Genre, Length: 207, dtype: float64"
      ]
     },
     "execution_count": 9,
     "metadata": {},
     "output_type": "execute_result"
    }
   ],
   "source": [
    "# Find the proportions of each genre by dividing your variable assigned above by the sum of all of the unique genre values\n",
    "# assign this to the variable genre_proportions\n",
    "\n",
    "genre_proportions= genre_counts/genre_counts.sum()\n",
    "\n",
    "genre_proportions"
   ]
  },
  {
   "cell_type": "code",
   "execution_count": 30,
   "id": "5df73d0d",
   "metadata": {},
   "outputs": [
    {
     "data": {
      "text/plain": [
       "1.0000000000000002"
      ]
     },
     "execution_count": 30,
     "metadata": {},
     "output_type": "execute_result"
    }
   ],
   "source": [
    "genre_proportions.sum()"
   ]
  },
  {
   "cell_type": "code",
   "execution_count": 10,
   "id": "00e49322",
   "metadata": {},
   "outputs": [
    {
     "data": {
      "text/plain": [
       "Action,Adventure,Sci-Fi    5.0\n",
       "Drama                      4.8\n",
       "Comedy,Drama,Romance       3.5\n",
       "Comedy                     3.2\n",
       "Drama,Romance              3.1\n",
       "                          ... \n",
       "Drama,Romance,War          0.1\n",
       "Action,Horror              0.1\n",
       "Biography,Drama,Mystery    0.1\n",
       "Comedy,Horror,Sci-Fi       0.1\n",
       "Drama,Fantasy,Thriller     0.1\n",
       "Name: Genre, Length: 207, dtype: float64"
      ]
     },
     "execution_count": 10,
     "metadata": {},
     "output_type": "execute_result"
    }
   ],
   "source": [
    "genre_proportions*100"
   ]
  },
  {
   "cell_type": "code",
   "execution_count": 11,
   "id": "dd24f821",
   "metadata": {},
   "outputs": [
    {
     "data": {
      "text/plain": [
       "0"
      ]
     },
     "execution_count": 11,
     "metadata": {},
     "output_type": "execute_result"
    }
   ],
   "source": [
    "# the length of results a above is too long to know if there are any null values present\n",
    "# we can run .isna() on the series and collect the sum to check if there are missing values\n",
    "# uncomment the line below to see the results\n",
    "\n",
    "(df['Genre'].isna().sum())\n"
   ]
  },
  {
   "cell_type": "code",
   "execution_count": 12,
   "id": "77904b7c",
   "metadata": {},
   "outputs": [
    {
     "data": {
      "text/plain": [
       "Action,Adventure,Sci-Fi       5.0\n",
       "Drama                         4.8\n",
       "Comedy,Drama,Romance          3.5\n",
       "Comedy                        3.2\n",
       "Drama,Romance                 3.1\n",
       "Action,Adventure,Fantasy      2.7\n",
       "Comedy,Drama                  2.7\n",
       "Animation,Adventure,Comedy    2.7\n",
       "Comedy,Romance                2.6\n",
       "Crime,Drama,Thriller          2.4\n",
       "Crime,Drama,Mystery           2.3\n",
       "Action,Adventure,Drama        1.8\n",
       "Action,Crime,Drama            1.7\n",
       "Horror,Thriller               1.6\n",
       "Drama,Thriller                1.5\n",
       "Action,Adventure,Comedy       1.4\n",
       "Adventure,Family,Fantasy      1.4\n",
       "Biography,Drama               1.4\n",
       "Biography,Drama,History       1.4\n",
       "Action,Crime,Thriller         1.2\n",
       "Name: Genre, dtype: float64"
      ]
     },
     "execution_count": 12,
     "metadata": {},
     "output_type": "execute_result"
    }
   ],
   "source": [
    "# use .head() on genre_proportions to get a better look at the top 20 \n",
    "# remember: .head() can take a parameter to display more than 5 entries \n",
    "\n",
    "genre_proportions.head(20)*100"
   ]
  },
  {
   "cell_type": "markdown",
   "id": "9fd9e484",
   "metadata": {},
   "source": [
    "### 2. Find the minimum, maximum, average, and standard deviation of revenue data."
   ]
  },
  {
   "cell_type": "code",
   "execution_count": 13,
   "id": "7042dfa6",
   "metadata": {},
   "outputs": [
    {
     "data": {
      "text/plain": [
       "count    872.000000\n",
       "mean      82.956376\n",
       "std      103.253540\n",
       "min        0.000000\n",
       "25%       13.270000\n",
       "50%       47.985000\n",
       "75%      113.715000\n",
       "max      936.630000\n",
       "Name: Revenue (Millions), dtype: float64"
      ]
     },
     "execution_count": 13,
     "metadata": {},
     "output_type": "execute_result"
    }
   ],
   "source": [
    "# use .describe() on the revenue column to see some summary statistics of the revenue data present\n",
    "\n",
    "df['Revenue (Millions)'].describe()\n"
   ]
  },
  {
   "cell_type": "code",
   "execution_count": 14,
   "id": "1f962d8d",
   "metadata": {},
   "outputs": [
    {
     "data": {
      "text/plain": [
       "128"
      ]
     },
     "execution_count": 14,
     "metadata": {},
     "output_type": "execute_result"
    }
   ],
   "source": [
    "(df['Revenue (Millions)'].isna().sum())"
   ]
  },
  {
   "cell_type": "markdown",
   "id": "de436940",
   "metadata": {},
   "source": [
    "Do we have any missing revenue entries?\n",
    "Add a new code cell below this and use ``.isna()`` on the column to check.\n",
    "Ask yourself: does this affect the results of ``.describe()``?\n",
    "Hint: look at the count result above and compare that with the ``Length`` returned with ``.isna()``"
   ]
  },
  {
   "cell_type": "markdown",
   "id": "d50f3ba9",
   "metadata": {},
   "source": [
    "### 3. Make a plot distribution of the revenue data.\n"
   ]
  },
  {
   "cell_type": "code",
   "execution_count": 15,
   "id": "fd50cc47",
   "metadata": {},
   "outputs": [
    {
     "data": {
      "text/plain": [
       "<AxesSubplot:xlabel='Revenue (Millions)', ylabel='Count'>"
      ]
     },
     "execution_count": 15,
     "metadata": {},
     "output_type": "execute_result"
    },
    {
     "data": {
      "image/png": "[encoded data removed]",
      "text/plain": [
       "<Figure size 432x288 with 1 Axes>"
      ]
     },
     "metadata": {
      "needs_background": "light"
     },
     "output_type": "display_data"
    }
   ],
   "source": [
    "# use sns.histplot to get a birds eye view of the revenue distribution\n",
    "# Note: the refernce article plots Cholesterol data with ``distplot`` but we recieve \n",
    "# a deprecation warning so we've switched it with ``histplot``. The resulting graph is \n",
    "# virtually the same.\n",
    "\n",
    "sns.histplot(data=df, x=\"Revenue (Millions)\", kde=True)"
   ]
  },
  {
   "cell_type": "code",
   "execution_count": 32,
   "id": "5829b301",
   "metadata": {},
   "outputs": [
    {
     "data": {
      "text/plain": [
       "<AxesSubplot:xlabel='Revenue (Millions)', ylabel='Count'>"
      ]
     },
     "execution_count": 32,
     "metadata": {},
     "output_type": "execute_result"
    },
    {
     "data": {
      "image/png": "[encoded data removed]",
      "text/plain": [
       "<Figure size 432x288 with 1 Axes>"
      ]
     },
     "metadata": {
      "needs_background": "light"
     },
     "output_type": "display_data"
    }
   ],
   "source": [
    "sns.histplot(df['Revenue (Millions)'].dropna())"
   ]
  },
  {
   "cell_type": "markdown",
   "id": "525e2dbc",
   "metadata": {},
   "source": [
    "The histogram(which is positively skewed) shows that the majority of movie revenues fall in the lower revenue range(between 0 to 150 million give or take, while fewer movies make higher revenues)"
   ]
  },
  {
   "cell_type": "markdown",
   "id": "8afe2aaf",
   "metadata": {},
   "source": [
    "Look back at your ``.describe()`` results above. Does this plotted distribution match the results of the 25%, 50%, and 75% percentile data?\n",
    "\n",
    "Create another code cell below this and make another histplot but with only the top 20 items in the revenue column. Run ``.describe()`` on the top 20 to again check the percentile distributions with what the graph displays."
   ]
  },
  {
   "cell_type": "code",
   "execution_count": 17,
   "id": "8cb5d7e1",
   "metadata": {},
   "outputs": [
    {
     "data": {
      "text/plain": [
       "count     19.000000\n",
       "mean     180.743158\n",
       "std      138.787767\n",
       "min        2.870000\n",
       "25%       83.565000\n",
       "50%      151.060000\n",
       "75%      259.535000\n",
       "max      532.170000\n",
       "Name: Revenue (Millions), dtype: float64"
      ]
     },
     "execution_count": 17,
     "metadata": {},
     "output_type": "execute_result"
    }
   ],
   "source": [
    "top20=df['Revenue (Millions)'].head(20).describe()\n",
    "\n",
    "top20"
   ]
  },
  {
   "cell_type": "markdown",
   "id": "7d8595c5",
   "metadata": {},
   "source": [
    "### 4. Find the % of movies with a higher than avergage Rating"
   ]
  },
  {
   "cell_type": "code",
   "execution_count": 18,
   "id": "1d80af3a",
   "metadata": {},
   "outputs": [
    {
     "data": {
      "text/plain": [
       "Rank                    0\n",
       "Title                   0\n",
       "Genre                   0\n",
       "Description             0\n",
       "Director                0\n",
       "Actors                  0\n",
       "Year                    0\n",
       "Runtime (Minutes)       0\n",
       "Rating                  0\n",
       "Votes                   0\n",
       "Revenue (Millions)    128\n",
       "Metascore              64\n",
       "dtype: int64"
      ]
     },
     "execution_count": 18,
     "metadata": {},
     "output_type": "execute_result"
    }
   ],
   "source": [
    "df.isnull().sum()"
   ]
  },
  {
   "cell_type": "code",
   "execution_count": 19,
   "id": "66b6460d",
   "metadata": {},
   "outputs": [
    {
     "data": {
      "text/plain": [
       "6.723200000000003"
      ]
     },
     "execution_count": 19,
     "metadata": {},
     "output_type": "execute_result"
    }
   ],
   "source": [
    "# create a variable called mean_rating.\n",
    "# assign mean_rating the result of running ``.mean()`` on the rating column.\n",
    "mean_rating=df.Rating.mean()\n",
    "\n",
    "mean_rating"
   ]
  },
  {
   "cell_type": "code",
   "execution_count": 20,
   "id": "7454148e",
   "metadata": {},
   "outputs": [
    {
     "data": {
      "text/plain": [
       "0.513"
      ]
     },
     "execution_count": 20,
     "metadata": {},
     "output_type": "execute_result"
    }
   ],
   "source": [
    "# Find the dataset where a movie's rating is higher than mean_rating. \n",
    "# Divide that by the length of the total dataset.\n",
    "\n",
    "len(df[df[\"Rating\"] > mean_rating])/len(df)\n"
   ]
  },
  {
   "cell_type": "code",
   "execution_count": 21,
   "id": "44eba177",
   "metadata": {},
   "outputs": [
    {
     "data": {
      "text/html": [
       "<div>\n",
       "<style scoped>\n",
       "    .dataframe tbody tr th:only-of-type {\n",
       "        vertical-align: middle;\n",
       "    }\n",
       "\n",
       "    .dataframe tbody tr th {\n",
       "        vertical-align: top;\n",
       "    }\n",
       "\n",
       "    .dataframe thead th {\n",
       "        text-align: right;\n",
       "    }\n",
       "</style>\n",
       "<table border=\"1\" class=\"dataframe\">\n",
       "  <thead>\n",
       "    <tr style=\"text-align: right;\">\n",
       "      <th></th>\n",
       "      <th>Rank</th>\n",
       "      <th>Title</th>\n",
       "      <th>Genre</th>\n",
       "      <th>Description</th>\n",
       "      <th>Director</th>\n",
       "      <th>Actors</th>\n",
       "      <th>Year</th>\n",
       "      <th>Runtime (Minutes)</th>\n",
       "      <th>Rating</th>\n",
       "      <th>Votes</th>\n",
       "      <th>Revenue (Millions)</th>\n",
       "      <th>Metascore</th>\n",
       "    </tr>\n",
       "  </thead>\n",
       "  <tbody>\n",
       "    <tr>\n",
       "      <th>8</th>\n",
       "      <td>9</td>\n",
       "      <td>The Lost City of Z</td>\n",
       "      <td>Action,Adventure,Biography</td>\n",
       "      <td>A true-life drama, centering on British explor...</td>\n",
       "      <td>James Gray</td>\n",
       "      <td>Charlie Hunnam, Robert Pattinson, Sienna Mille...</td>\n",
       "      <td>2016</td>\n",
       "      <td>141</td>\n",
       "      <td>7.1</td>\n",
       "      <td>7188</td>\n",
       "      <td>8.01</td>\n",
       "      <td>78.0</td>\n",
       "    </tr>\n",
       "    <tr>\n",
       "      <th>26</th>\n",
       "      <td>27</td>\n",
       "      <td>Bahubali: The Beginning</td>\n",
       "      <td>Action,Adventure,Drama</td>\n",
       "      <td>In ancient India, an adventurous and daring ma...</td>\n",
       "      <td>S.S. Rajamouli</td>\n",
       "      <td>Prabhas, Rana Daggubati, Anushka Shetty,Tamann...</td>\n",
       "      <td>2015</td>\n",
       "      <td>159</td>\n",
       "      <td>8.3</td>\n",
       "      <td>76193</td>\n",
       "      <td>6.50</td>\n",
       "      <td>NaN</td>\n",
       "    </tr>\n",
       "    <tr>\n",
       "      <th>31</th>\n",
       "      <td>32</td>\n",
       "      <td>Nocturnal Animals</td>\n",
       "      <td>Drama,Thriller</td>\n",
       "      <td>A wealthy art gallery owner is haunted by her ...</td>\n",
       "      <td>Tom Ford</td>\n",
       "      <td>Amy Adams, Jake Gyllenhaal, Michael Shannon, A...</td>\n",
       "      <td>2016</td>\n",
       "      <td>116</td>\n",
       "      <td>7.5</td>\n",
       "      <td>126030</td>\n",
       "      <td>10.64</td>\n",
       "      <td>67.0</td>\n",
       "    </tr>\n",
       "    <tr>\n",
       "      <th>43</th>\n",
       "      <td>44</td>\n",
       "      <td>The Founder</td>\n",
       "      <td>Biography,Drama,History</td>\n",
       "      <td>The story of Ray Kroc, a salesman who turned t...</td>\n",
       "      <td>John Lee Hancock</td>\n",
       "      <td>Michael Keaton, Nick Offerman, John Carroll Ly...</td>\n",
       "      <td>2016</td>\n",
       "      <td>115</td>\n",
       "      <td>7.2</td>\n",
       "      <td>37033</td>\n",
       "      <td>12.79</td>\n",
       "      <td>66.0</td>\n",
       "    </tr>\n",
       "    <tr>\n",
       "      <th>46</th>\n",
       "      <td>47</td>\n",
       "      <td>Miss Sloane</td>\n",
       "      <td>Drama,Thriller</td>\n",
       "      <td>In the high-stakes world of political power-br...</td>\n",
       "      <td>John Madden</td>\n",
       "      <td>Jessica Chastain, Mark Strong, Gugu Mbatha-Raw...</td>\n",
       "      <td>2016</td>\n",
       "      <td>132</td>\n",
       "      <td>7.3</td>\n",
       "      <td>17818</td>\n",
       "      <td>3.44</td>\n",
       "      <td>64.0</td>\n",
       "    </tr>\n",
       "    <tr>\n",
       "      <th>...</th>\n",
       "      <td>...</td>\n",
       "      <td>...</td>\n",
       "      <td>...</td>\n",
       "      <td>...</td>\n",
       "      <td>...</td>\n",
       "      <td>...</td>\n",
       "      <td>...</td>\n",
       "      <td>...</td>\n",
       "      <td>...</td>\n",
       "      <td>...</td>\n",
       "      <td>...</td>\n",
       "      <td>...</td>\n",
       "    </tr>\n",
       "    <tr>\n",
       "      <th>953</th>\n",
       "      <td>954</td>\n",
       "      <td>The Kings of Summer</td>\n",
       "      <td>Adventure,Comedy,Drama</td>\n",
       "      <td>Three teenage friends, in the ultimate act of ...</td>\n",
       "      <td>Jordan Vogt-Roberts</td>\n",
       "      <td>Nick Robinson, Gabriel Basso, Moises Arias,Nic...</td>\n",
       "      <td>2013</td>\n",
       "      <td>95</td>\n",
       "      <td>7.2</td>\n",
       "      <td>65653</td>\n",
       "      <td>1.29</td>\n",
       "      <td>61.0</td>\n",
       "    </tr>\n",
       "    <tr>\n",
       "      <th>960</th>\n",
       "      <td>961</td>\n",
       "      <td>Trance</td>\n",
       "      <td>Crime,Drama,Mystery</td>\n",
       "      <td>An art auctioneer who has become mixed up with...</td>\n",
       "      <td>Danny Boyle</td>\n",
       "      <td>James McAvoy, Rosario Dawson, Vincent Cassel,D...</td>\n",
       "      <td>2013</td>\n",
       "      <td>101</td>\n",
       "      <td>7.0</td>\n",
       "      <td>97141</td>\n",
       "      <td>2.32</td>\n",
       "      <td>61.0</td>\n",
       "    </tr>\n",
       "    <tr>\n",
       "      <th>967</th>\n",
       "      <td>968</td>\n",
       "      <td>The Walk</td>\n",
       "      <td>Adventure,Biography,Crime</td>\n",
       "      <td>In 1974, high-wire artist Philippe Petit recru...</td>\n",
       "      <td>Robert Zemeckis</td>\n",
       "      <td>Joseph Gordon-Levitt, Charlotte Le Bon,Guillau...</td>\n",
       "      <td>2015</td>\n",
       "      <td>123</td>\n",
       "      <td>7.3</td>\n",
       "      <td>92378</td>\n",
       "      <td>10.14</td>\n",
       "      <td>NaN</td>\n",
       "    </tr>\n",
       "    <tr>\n",
       "      <th>974</th>\n",
       "      <td>975</td>\n",
       "      <td>Queen of Katwe</td>\n",
       "      <td>Biography,Drama,Sport</td>\n",
       "      <td>A Ugandan girl sees her world rapidly change a...</td>\n",
       "      <td>Mira Nair</td>\n",
       "      <td>Madina Nalwanga, David Oyelowo, Lupita Nyong'o...</td>\n",
       "      <td>2016</td>\n",
       "      <td>124</td>\n",
       "      <td>7.4</td>\n",
       "      <td>6753</td>\n",
       "      <td>8.81</td>\n",
       "      <td>73.0</td>\n",
       "    </tr>\n",
       "    <tr>\n",
       "      <th>979</th>\n",
       "      <td>980</td>\n",
       "      <td>The Skin I Live In</td>\n",
       "      <td>Drama,Thriller</td>\n",
       "      <td>A brilliant plastic surgeon, haunted by past t...</td>\n",
       "      <td>Pedro Almodóvar</td>\n",
       "      <td>Antonio Banderas, Elena Anaya, Jan Cornet,Mari...</td>\n",
       "      <td>2011</td>\n",
       "      <td>120</td>\n",
       "      <td>7.6</td>\n",
       "      <td>108772</td>\n",
       "      <td>3.19</td>\n",
       "      <td>70.0</td>\n",
       "    </tr>\n",
       "  </tbody>\n",
       "</table>\n",
       "<p>97 rows × 12 columns</p>\n",
       "</div>"
      ],
      "text/plain": [
       "     Rank                    Title                       Genre  \\\n",
       "8       9       The Lost City of Z  Action,Adventure,Biography   \n",
       "26     27  Bahubali: The Beginning      Action,Adventure,Drama   \n",
       "31     32        Nocturnal Animals              Drama,Thriller   \n",
       "43     44              The Founder     Biography,Drama,History   \n",
       "46     47              Miss Sloane              Drama,Thriller   \n",
       "..    ...                      ...                         ...   \n",
       "953   954      The Kings of Summer      Adventure,Comedy,Drama   \n",
       "960   961                   Trance         Crime,Drama,Mystery   \n",
       "967   968                 The Walk   Adventure,Biography,Crime   \n",
       "974   975           Queen of Katwe       Biography,Drama,Sport   \n",
       "979   980       The Skin I Live In              Drama,Thriller   \n",
       "\n",
       "                                           Description             Director  \\\n",
       "8    A true-life drama, centering on British explor...           James Gray   \n",
       "26   In ancient India, an adventurous and daring ma...       S.S. Rajamouli   \n",
       "31   A wealthy art gallery owner is haunted by her ...             Tom Ford   \n",
       "43   The story of Ray Kroc, a salesman who turned t...     John Lee Hancock   \n",
       "46   In the high-stakes world of political power-br...          John Madden   \n",
       "..                                                 ...                  ...   \n",
       "953  Three teenage friends, in the ultimate act of ...  Jordan Vogt-Roberts   \n",
       "960  An art auctioneer who has become mixed up with...          Danny Boyle   \n",
       "967  In 1974, high-wire artist Philippe Petit recru...      Robert Zemeckis   \n",
       "974  A Ugandan girl sees her world rapidly change a...            Mira Nair   \n",
       "979  A brilliant plastic surgeon, haunted by past t...      Pedro Almodóvar   \n",
       "\n",
       "                                                Actors  Year  \\\n",
       "8    Charlie Hunnam, Robert Pattinson, Sienna Mille...  2016   \n",
       "26   Prabhas, Rana Daggubati, Anushka Shetty,Tamann...  2015   \n",
       "31   Amy Adams, Jake Gyllenhaal, Michael Shannon, A...  2016   \n",
       "43   Michael Keaton, Nick Offerman, John Carroll Ly...  2016   \n",
       "46   Jessica Chastain, Mark Strong, Gugu Mbatha-Raw...  2016   \n",
       "..                                                 ...   ...   \n",
       "953  Nick Robinson, Gabriel Basso, Moises Arias,Nic...  2013   \n",
       "960  James McAvoy, Rosario Dawson, Vincent Cassel,D...  2013   \n",
       "967  Joseph Gordon-Levitt, Charlotte Le Bon,Guillau...  2015   \n",
       "974  Madina Nalwanga, David Oyelowo, Lupita Nyong'o...  2016   \n",
       "979  Antonio Banderas, Elena Anaya, Jan Cornet,Mari...  2011   \n",
       "\n",
       "     Runtime (Minutes)  Rating   Votes  Revenue (Millions)  Metascore  \n",
       "8                  141     7.1    7188                8.01       78.0  \n",
       "26                 159     8.3   76193                6.50        NaN  \n",
       "31                 116     7.5  126030               10.64       67.0  \n",
       "43                 115     7.2   37033               12.79       66.0  \n",
       "46                 132     7.3   17818                3.44       64.0  \n",
       "..                 ...     ...     ...                 ...        ...  \n",
       "953                 95     7.2   65653                1.29       61.0  \n",
       "960                101     7.0   97141                2.32       61.0  \n",
       "967                123     7.3   92378               10.14        NaN  \n",
       "974                124     7.4    6753                8.81       73.0  \n",
       "979                120     7.6  108772                3.19       70.0  \n",
       "\n",
       "[97 rows x 12 columns]"
      ]
     },
     "execution_count": 21,
     "metadata": {},
     "output_type": "execute_result"
    }
   ],
   "source": [
    "df[((df['Year'] >= 2010) & (df['Year'] <= 2016))\n",
    "      & (df['Rating'] > mean_rating)\n",
    "      & (df['Revenue (Millions)'] < df['Revenue (Millions)'].quantile(0.25))]\n",
    "\n",
    "#Movies with ratings greater than mean rating with rev in 25th percentile"
   ]
  },
  {
   "cell_type": "code",
   "execution_count": 22,
   "id": "2755110e",
   "metadata": {},
   "outputs": [
    {
     "data": {
      "text/html": [
       "<div>\n",
       "<style scoped>\n",
       "    .dataframe tbody tr th:only-of-type {\n",
       "        vertical-align: middle;\n",
       "    }\n",
       "\n",
       "    .dataframe tbody tr th {\n",
       "        vertical-align: top;\n",
       "    }\n",
       "\n",
       "    .dataframe thead th {\n",
       "        text-align: right;\n",
       "    }\n",
       "</style>\n",
       "<table border=\"1\" class=\"dataframe\">\n",
       "  <thead>\n",
       "    <tr style=\"text-align: right;\">\n",
       "      <th></th>\n",
       "      <th>Rank</th>\n",
       "      <th>Title</th>\n",
       "      <th>Genre</th>\n",
       "      <th>Description</th>\n",
       "      <th>Director</th>\n",
       "      <th>Actors</th>\n",
       "      <th>Year</th>\n",
       "      <th>Runtime (Minutes)</th>\n",
       "      <th>Rating</th>\n",
       "      <th>Votes</th>\n",
       "      <th>Revenue (Millions)</th>\n",
       "      <th>Metascore</th>\n",
       "    </tr>\n",
       "  </thead>\n",
       "  <tbody>\n",
       "    <tr>\n",
       "      <th>26</th>\n",
       "      <td>27</td>\n",
       "      <td>Bahubali: The Beginning</td>\n",
       "      <td>Action,Adventure,Drama</td>\n",
       "      <td>In ancient India, an adventurous and daring ma...</td>\n",
       "      <td>S.S. Rajamouli</td>\n",
       "      <td>Prabhas, Rana Daggubati, Anushka Shetty,Tamann...</td>\n",
       "      <td>2015</td>\n",
       "      <td>159</td>\n",
       "      <td>8.3</td>\n",
       "      <td>76193</td>\n",
       "      <td>6.50</td>\n",
       "      <td>NaN</td>\n",
       "    </tr>\n",
       "    <tr>\n",
       "      <th>96</th>\n",
       "      <td>97</td>\n",
       "      <td>Kimi no na wa</td>\n",
       "      <td>Animation,Drama,Fantasy</td>\n",
       "      <td>Two strangers find themselves linked in a biza...</td>\n",
       "      <td>Makoto Shinkai</td>\n",
       "      <td>Ryûnosuke Kamiki, Mone Kamishiraishi, Ryô Nari...</td>\n",
       "      <td>2016</td>\n",
       "      <td>106</td>\n",
       "      <td>8.6</td>\n",
       "      <td>34110</td>\n",
       "      <td>4.68</td>\n",
       "      <td>79.0</td>\n",
       "    </tr>\n",
       "    <tr>\n",
       "      <th>117</th>\n",
       "      <td>118</td>\n",
       "      <td>Dangal</td>\n",
       "      <td>Action,Biography,Drama</td>\n",
       "      <td>Former wrestler Mahavir Singh Phogat and his t...</td>\n",
       "      <td>Nitesh Tiwari</td>\n",
       "      <td>Aamir Khan, Sakshi Tanwar, Fatima Sana Shaikh,...</td>\n",
       "      <td>2016</td>\n",
       "      <td>161</td>\n",
       "      <td>8.8</td>\n",
       "      <td>48969</td>\n",
       "      <td>11.15</td>\n",
       "      <td>NaN</td>\n",
       "    </tr>\n",
       "    <tr>\n",
       "      <th>133</th>\n",
       "      <td>134</td>\n",
       "      <td>Whiplash</td>\n",
       "      <td>Drama,Music</td>\n",
       "      <td>A promising young drummer enrolls at a cut-thr...</td>\n",
       "      <td>Damien Chazelle</td>\n",
       "      <td>Miles Teller, J.K. Simmons, Melissa Benoist, P...</td>\n",
       "      <td>2014</td>\n",
       "      <td>107</td>\n",
       "      <td>8.5</td>\n",
       "      <td>477276</td>\n",
       "      <td>13.09</td>\n",
       "      <td>88.0</td>\n",
       "    </tr>\n",
       "    <tr>\n",
       "      <th>145</th>\n",
       "      <td>146</td>\n",
       "      <td>Ah-ga-ssi</td>\n",
       "      <td>Drama,Mystery,Romance</td>\n",
       "      <td>A woman is hired as a handmaiden to a Japanese...</td>\n",
       "      <td>Chan-wook Park</td>\n",
       "      <td>Min-hee Kim, Jung-woo Ha, Jin-woong Jo, So-ri ...</td>\n",
       "      <td>2016</td>\n",
       "      <td>144</td>\n",
       "      <td>8.1</td>\n",
       "      <td>33418</td>\n",
       "      <td>2.01</td>\n",
       "      <td>84.0</td>\n",
       "    </tr>\n",
       "    <tr>\n",
       "      <th>249</th>\n",
       "      <td>250</td>\n",
       "      <td>The Intouchables</td>\n",
       "      <td>Biography,Comedy,Drama</td>\n",
       "      <td>After he becomes a quadriplegic from a paragli...</td>\n",
       "      <td>Olivier Nakache</td>\n",
       "      <td>François Cluzet, Omar Sy, Anne Le Ny, Audrey F...</td>\n",
       "      <td>2011</td>\n",
       "      <td>112</td>\n",
       "      <td>8.6</td>\n",
       "      <td>557965</td>\n",
       "      <td>13.18</td>\n",
       "      <td>57.0</td>\n",
       "    </tr>\n",
       "    <tr>\n",
       "      <th>430</th>\n",
       "      <td>431</td>\n",
       "      <td>3 Idiots</td>\n",
       "      <td>Comedy,Drama</td>\n",
       "      <td>Two friends are searching for their long lost ...</td>\n",
       "      <td>Rajkumar Hirani</td>\n",
       "      <td>Aamir Khan, Madhavan, Mona Singh, Sharman Joshi</td>\n",
       "      <td>2009</td>\n",
       "      <td>170</td>\n",
       "      <td>8.4</td>\n",
       "      <td>238789</td>\n",
       "      <td>6.52</td>\n",
       "      <td>67.0</td>\n",
       "    </tr>\n",
       "    <tr>\n",
       "      <th>455</th>\n",
       "      <td>456</td>\n",
       "      <td>Jagten</td>\n",
       "      <td>Drama</td>\n",
       "      <td>A teacher lives a lonely life, all the while s...</td>\n",
       "      <td>Thomas Vinterberg</td>\n",
       "      <td>Mads Mikkelsen, Thomas Bo Larsen, Annika Wedde...</td>\n",
       "      <td>2012</td>\n",
       "      <td>115</td>\n",
       "      <td>8.3</td>\n",
       "      <td>192263</td>\n",
       "      <td>0.61</td>\n",
       "      <td>76.0</td>\n",
       "    </tr>\n",
       "    <tr>\n",
       "      <th>476</th>\n",
       "      <td>477</td>\n",
       "      <td>The Lives of Others</td>\n",
       "      <td>Drama,Thriller</td>\n",
       "      <td>In 1984 East Berlin, an agent of the secret po...</td>\n",
       "      <td>Florian Henckel von Donnersmarck</td>\n",
       "      <td>Ulrich Mühe, Martina Gedeck,Sebastian Koch, Ul...</td>\n",
       "      <td>2006</td>\n",
       "      <td>137</td>\n",
       "      <td>8.5</td>\n",
       "      <td>278103</td>\n",
       "      <td>11.28</td>\n",
       "      <td>89.0</td>\n",
       "    </tr>\n",
       "    <tr>\n",
       "      <th>608</th>\n",
       "      <td>609</td>\n",
       "      <td>Mommy</td>\n",
       "      <td>Drama</td>\n",
       "      <td>A widowed single mother, raising her violent s...</td>\n",
       "      <td>Xavier Dolan</td>\n",
       "      <td>Anne Dorval, Antoine-Olivier Pilon, Suzanne Cl...</td>\n",
       "      <td>2014</td>\n",
       "      <td>139</td>\n",
       "      <td>8.1</td>\n",
       "      <td>33560</td>\n",
       "      <td>3.49</td>\n",
       "      <td>74.0</td>\n",
       "    </tr>\n",
       "    <tr>\n",
       "      <th>641</th>\n",
       "      <td>642</td>\n",
       "      <td>Relatos salvajes</td>\n",
       "      <td>Comedy,Drama,Thriller</td>\n",
       "      <td>Six short stories that explore the extremities...</td>\n",
       "      <td>Damián Szifron</td>\n",
       "      <td>Darío Grandinetti, María Marull, Mónica Villa,...</td>\n",
       "      <td>2014</td>\n",
       "      <td>122</td>\n",
       "      <td>8.1</td>\n",
       "      <td>110100</td>\n",
       "      <td>3.08</td>\n",
       "      <td>77.0</td>\n",
       "    </tr>\n",
       "    <tr>\n",
       "      <th>713</th>\n",
       "      <td>714</td>\n",
       "      <td>Incendies</td>\n",
       "      <td>Drama,Mystery,War</td>\n",
       "      <td>Twins journey to the Middle East to discover t...</td>\n",
       "      <td>Denis Villeneuve</td>\n",
       "      <td>Lubna Azabal, Mélissa Désormeaux-Poulin, Maxim...</td>\n",
       "      <td>2010</td>\n",
       "      <td>131</td>\n",
       "      <td>8.2</td>\n",
       "      <td>92863</td>\n",
       "      <td>6.86</td>\n",
       "      <td>80.0</td>\n",
       "    </tr>\n",
       "    <tr>\n",
       "      <th>765</th>\n",
       "      <td>766</td>\n",
       "      <td>PK</td>\n",
       "      <td>Comedy,Drama,Romance</td>\n",
       "      <td>A stranger in the city asks questions no one h...</td>\n",
       "      <td>Rajkumar Hirani</td>\n",
       "      <td>Aamir Khan, Anushka Sharma, Sanjay Dutt,Boman ...</td>\n",
       "      <td>2014</td>\n",
       "      <td>153</td>\n",
       "      <td>8.2</td>\n",
       "      <td>103279</td>\n",
       "      <td>10.57</td>\n",
       "      <td>51.0</td>\n",
       "    </tr>\n",
       "    <tr>\n",
       "      <th>991</th>\n",
       "      <td>992</td>\n",
       "      <td>Taare Zameen Par</td>\n",
       "      <td>Drama,Family,Music</td>\n",
       "      <td>An eight-year-old boy is thought to be a lazy ...</td>\n",
       "      <td>Aamir Khan</td>\n",
       "      <td>Darsheel Safary, Aamir Khan, Tanay Chheda, Sac...</td>\n",
       "      <td>2007</td>\n",
       "      <td>165</td>\n",
       "      <td>8.5</td>\n",
       "      <td>102697</td>\n",
       "      <td>1.20</td>\n",
       "      <td>42.0</td>\n",
       "    </tr>\n",
       "  </tbody>\n",
       "</table>\n",
       "</div>"
      ],
      "text/plain": [
       "     Rank                    Title                    Genre  \\\n",
       "26     27  Bahubali: The Beginning   Action,Adventure,Drama   \n",
       "96     97            Kimi no na wa  Animation,Drama,Fantasy   \n",
       "117   118                   Dangal   Action,Biography,Drama   \n",
       "133   134                 Whiplash              Drama,Music   \n",
       "145   146                Ah-ga-ssi    Drama,Mystery,Romance   \n",
       "249   250         The Intouchables   Biography,Comedy,Drama   \n",
       "430   431                 3 Idiots             Comedy,Drama   \n",
       "455   456                   Jagten                    Drama   \n",
       "476   477      The Lives of Others           Drama,Thriller   \n",
       "608   609                    Mommy                    Drama   \n",
       "641   642         Relatos salvajes    Comedy,Drama,Thriller   \n",
       "713   714                Incendies        Drama,Mystery,War   \n",
       "765   766                       PK     Comedy,Drama,Romance   \n",
       "991   992         Taare Zameen Par       Drama,Family,Music   \n",
       "\n",
       "                                           Description  \\\n",
       "26   In ancient India, an adventurous and daring ma...   \n",
       "96   Two strangers find themselves linked in a biza...   \n",
       "117  Former wrestler Mahavir Singh Phogat and his t...   \n",
       "133  A promising young drummer enrolls at a cut-thr...   \n",
       "145  A woman is hired as a handmaiden to a Japanese...   \n",
       "249  After he becomes a quadriplegic from a paragli...   \n",
       "430  Two friends are searching for their long lost ...   \n",
       "455  A teacher lives a lonely life, all the while s...   \n",
       "476  In 1984 East Berlin, an agent of the secret po...   \n",
       "608  A widowed single mother, raising her violent s...   \n",
       "641  Six short stories that explore the extremities...   \n",
       "713  Twins journey to the Middle East to discover t...   \n",
       "765  A stranger in the city asks questions no one h...   \n",
       "991  An eight-year-old boy is thought to be a lazy ...   \n",
       "\n",
       "                             Director  \\\n",
       "26                     S.S. Rajamouli   \n",
       "96                     Makoto Shinkai   \n",
       "117                     Nitesh Tiwari   \n",
       "133                   Damien Chazelle   \n",
       "145                    Chan-wook Park   \n",
       "249                   Olivier Nakache   \n",
       "430                   Rajkumar Hirani   \n",
       "455                 Thomas Vinterberg   \n",
       "476  Florian Henckel von Donnersmarck   \n",
       "608                      Xavier Dolan   \n",
       "641                    Damián Szifron   \n",
       "713                  Denis Villeneuve   \n",
       "765                   Rajkumar Hirani   \n",
       "991                        Aamir Khan   \n",
       "\n",
       "                                                Actors  Year  \\\n",
       "26   Prabhas, Rana Daggubati, Anushka Shetty,Tamann...  2015   \n",
       "96   Ryûnosuke Kamiki, Mone Kamishiraishi, Ryô Nari...  2016   \n",
       "117  Aamir Khan, Sakshi Tanwar, Fatima Sana Shaikh,...  2016   \n",
       "133  Miles Teller, J.K. Simmons, Melissa Benoist, P...  2014   \n",
       "145  Min-hee Kim, Jung-woo Ha, Jin-woong Jo, So-ri ...  2016   \n",
       "249  François Cluzet, Omar Sy, Anne Le Ny, Audrey F...  2011   \n",
       "430    Aamir Khan, Madhavan, Mona Singh, Sharman Joshi  2009   \n",
       "455  Mads Mikkelsen, Thomas Bo Larsen, Annika Wedde...  2012   \n",
       "476  Ulrich Mühe, Martina Gedeck,Sebastian Koch, Ul...  2006   \n",
       "608  Anne Dorval, Antoine-Olivier Pilon, Suzanne Cl...  2014   \n",
       "641  Darío Grandinetti, María Marull, Mónica Villa,...  2014   \n",
       "713  Lubna Azabal, Mélissa Désormeaux-Poulin, Maxim...  2010   \n",
       "765  Aamir Khan, Anushka Sharma, Sanjay Dutt,Boman ...  2014   \n",
       "991  Darsheel Safary, Aamir Khan, Tanay Chheda, Sac...  2007   \n",
       "\n",
       "     Runtime (Minutes)  Rating   Votes  Revenue (Millions)  Metascore  \n",
       "26                 159     8.3   76193                6.50        NaN  \n",
       "96                 106     8.6   34110                4.68       79.0  \n",
       "117                161     8.8   48969               11.15        NaN  \n",
       "133                107     8.5  477276               13.09       88.0  \n",
       "145                144     8.1   33418                2.01       84.0  \n",
       "249                112     8.6  557965               13.18       57.0  \n",
       "430                170     8.4  238789                6.52       67.0  \n",
       "455                115     8.3  192263                0.61       76.0  \n",
       "476                137     8.5  278103               11.28       89.0  \n",
       "608                139     8.1   33560                3.49       74.0  \n",
       "641                122     8.1  110100                3.08       77.0  \n",
       "713                131     8.2   92863                6.86       80.0  \n",
       "765                153     8.2  103279               10.57       51.0  \n",
       "991                165     8.5  102697                1.20       42.0  "
      ]
     },
     "execution_count": 22,
     "metadata": {},
     "output_type": "execute_result"
    }
   ],
   "source": [
    "df[(df['Rating'] > 8) & (df['Revenue (Millions)'] <= df['Revenue (Millions)'].quantile(0.25))]\n",
    "\n",
    "#Ratings greater than 8 with Rev in 25th percentile\n",
    "\n"
   ]
  },
  {
   "cell_type": "markdown",
   "id": "1c623861",
   "metadata": {},
   "source": [
    "### 5. Plot the rating data against genre to observe the difference in score in different movie types"
   ]
  },
  {
   "cell_type": "code",
   "execution_count": 23,
   "id": "fce70293",
   "metadata": {},
   "outputs": [
    {
     "data": {
      "text/plain": [
       "count    1000.000000\n",
       "mean        6.723200\n",
       "std         0.945429\n",
       "min         1.900000\n",
       "25%         6.200000\n",
       "50%         6.800000\n",
       "75%         7.400000\n",
       "max         9.000000\n",
       "Name: Rating, dtype: float64"
      ]
     },
     "execution_count": 23,
     "metadata": {},
     "output_type": "execute_result"
    }
   ],
   "source": [
    "# run describe on the rating column\n",
    "df['Rating'].describe()"
   ]
  },
  {
   "cell_type": "code",
   "execution_count": 24,
   "id": "212c395b",
   "metadata": {},
   "outputs": [
    {
     "data": {
      "text/plain": [
       "<AxesSubplot:xlabel='Rating', ylabel='Genre'>"
      ]
     },
     "execution_count": 24,
     "metadata": {},
     "output_type": "execute_result"
    },
    {
     "data": {
      "image/png": "[encoded data removed]",
      "text/plain": [
       "<Figure size 864x360 with 1 Axes>"
      ]
     },
     "metadata": {
      "needs_background": "light"
     },
     "output_type": "display_data"
    }
   ],
   "source": [
    "# Plot the rating data against genres\n",
    "# First, lets mirror what our reference article plots\n",
    "\n",
    "plt.figure(figsize=(12,5))\n",
    "sns.boxplot(x = \"Rating\", y = \"Genre\", data=df)"
   ]
  },
  {
   "cell_type": "code",
   "execution_count": 25,
   "id": "4c094a8e",
   "metadata": {},
   "outputs": [
    {
     "data": {
      "text/plain": [
       "<AxesSubplot:xlabel='Rating', ylabel='Genre'>"
      ]
     },
     "execution_count": 25,
     "metadata": {},
     "output_type": "execute_result"
    },
    {
     "data": {
      "image/png": "[encoded data removed]",
      "text/plain": [
       "<Figure size 864x360 with 1 Axes>"
      ]
     },
     "metadata": {
      "needs_background": "light"
     },
     "output_type": "display_data"
    }
   ],
   "source": [
    "plt.figure(figsize=(12,5))\n",
    "sns.boxplot(x = \"Rating\", y = \"Genre\", data=df.head(20))"
   ]
  },
  {
   "cell_type": "markdown",
   "id": "ed28d392",
   "metadata": {},
   "source": [
    "That graph isn't very helpful! \n",
    "Create a new code cell below this and create the same plot, but this time for data used,\n",
    "use only the first 20 entries.\n",
    "Do you find that any easier to read and interpret?\n",
    "Next, create one more cell. Use the same axes and the top 20 items in the data, but plot using ``sns.scatterplot()``. Do you learn anything different between the boxplot and the scatterplot?"
   ]
  },
  {
   "cell_type": "code",
   "execution_count": 26,
   "id": "32b1abec",
   "metadata": {},
   "outputs": [
    {
     "data": {
      "text/plain": [
       "<AxesSubplot:xlabel='Rating', ylabel='Genre'>"
      ]
     },
     "execution_count": 26,
     "metadata": {},
     "output_type": "execute_result"
    },
    {
     "data": {
      "image/png": "[encoded data removed]",
      "text/plain": [
       "<Figure size 864x360 with 1 Axes>"
      ]
     },
     "metadata": {
      "needs_background": "light"
     },
     "output_type": "display_data"
    }
   ],
   "source": [
    "plt.figure(figsize=(12,5))\n",
    "sns.scatterplot(x = \"Rating\", y = \"Genre\", data=df.head(20))"
   ]
  },
  {
   "cell_type": "markdown",
   "id": "0bb688aa",
   "metadata": {},
   "source": [
    "### 6. Make a chart to show the number of films in each rating group each year"
   ]
  },
  {
   "cell_type": "code",
   "execution_count": 27,
   "id": "50a75081",
   "metadata": {},
   "outputs": [],
   "source": [
    "# Create a new column called rating_group\n",
    "# Use pd.cut() to bin(group) the rating_group column values by integer intervals 1-10\n",
    "df[\"rating_group\"]=pd.cut(df.Rating, [1, 2, 3, 4, 5, 6, 7, 8, 9, 10])\n"
   ]
  },
  {
   "cell_type": "code",
   "execution_count": 28,
   "id": "e21526ed",
   "metadata": {
    "scrolled": false
   },
   "outputs": [
    {
     "data": {
      "text/html": [
       "<div>\n",
       "<style scoped>\n",
       "    .dataframe tbody tr th:only-of-type {\n",
       "        vertical-align: middle;\n",
       "    }\n",
       "\n",
       "    .dataframe tbody tr th {\n",
       "        vertical-align: top;\n",
       "    }\n",
       "\n",
       "    .dataframe thead th {\n",
       "        text-align: right;\n",
       "    }\n",
       "</style>\n",
       "<table border=\"1\" class=\"dataframe\">\n",
       "  <thead>\n",
       "    <tr style=\"text-align: right;\">\n",
       "      <th>rating_group</th>\n",
       "      <th>(1, 2]</th>\n",
       "      <th>(2, 3]</th>\n",
       "      <th>(3, 4]</th>\n",
       "      <th>(4, 5]</th>\n",
       "      <th>(5, 6]</th>\n",
       "      <th>(6, 7]</th>\n",
       "      <th>(7, 8]</th>\n",
       "      <th>(8, 9]</th>\n",
       "    </tr>\n",
       "    <tr>\n",
       "      <th>Year</th>\n",
       "      <th></th>\n",
       "      <th></th>\n",
       "      <th></th>\n",
       "      <th></th>\n",
       "      <th></th>\n",
       "      <th></th>\n",
       "      <th></th>\n",
       "      <th></th>\n",
       "    </tr>\n",
       "  </thead>\n",
       "  <tbody>\n",
       "    <tr>\n",
       "      <th>2006</th>\n",
       "      <td>NaN</td>\n",
       "      <td>NaN</td>\n",
       "      <td>NaN</td>\n",
       "      <td>NaN</td>\n",
       "      <td>4.0</td>\n",
       "      <td>18.0</td>\n",
       "      <td>18.0</td>\n",
       "      <td>4.0</td>\n",
       "    </tr>\n",
       "    <tr>\n",
       "      <th>2007</th>\n",
       "      <td>NaN</td>\n",
       "      <td>NaN</td>\n",
       "      <td>NaN</td>\n",
       "      <td>1.0</td>\n",
       "      <td>4.0</td>\n",
       "      <td>11.0</td>\n",
       "      <td>32.0</td>\n",
       "      <td>5.0</td>\n",
       "    </tr>\n",
       "    <tr>\n",
       "      <th>2008</th>\n",
       "      <td>1.0</td>\n",
       "      <td>NaN</td>\n",
       "      <td>NaN</td>\n",
       "      <td>1.0</td>\n",
       "      <td>6.0</td>\n",
       "      <td>22.0</td>\n",
       "      <td>19.0</td>\n",
       "      <td>3.0</td>\n",
       "    </tr>\n",
       "    <tr>\n",
       "      <th>2009</th>\n",
       "      <td>NaN</td>\n",
       "      <td>1.0</td>\n",
       "      <td>NaN</td>\n",
       "      <td>1.0</td>\n",
       "      <td>7.0</td>\n",
       "      <td>16.0</td>\n",
       "      <td>21.0</td>\n",
       "      <td>5.0</td>\n",
       "    </tr>\n",
       "    <tr>\n",
       "      <th>2010</th>\n",
       "      <td>NaN</td>\n",
       "      <td>NaN</td>\n",
       "      <td>NaN</td>\n",
       "      <td>3.0</td>\n",
       "      <td>7.0</td>\n",
       "      <td>25.0</td>\n",
       "      <td>20.0</td>\n",
       "      <td>5.0</td>\n",
       "    </tr>\n",
       "    <tr>\n",
       "      <th>2011</th>\n",
       "      <td>NaN</td>\n",
       "      <td>NaN</td>\n",
       "      <td>NaN</td>\n",
       "      <td>2.0</td>\n",
       "      <td>8.0</td>\n",
       "      <td>25.0</td>\n",
       "      <td>24.0</td>\n",
       "      <td>4.0</td>\n",
       "    </tr>\n",
       "    <tr>\n",
       "      <th>2012</th>\n",
       "      <td>NaN</td>\n",
       "      <td>NaN</td>\n",
       "      <td>NaN</td>\n",
       "      <td>NaN</td>\n",
       "      <td>8.0</td>\n",
       "      <td>27.0</td>\n",
       "      <td>25.0</td>\n",
       "      <td>4.0</td>\n",
       "    </tr>\n",
       "    <tr>\n",
       "      <th>2013</th>\n",
       "      <td>NaN</td>\n",
       "      <td>NaN</td>\n",
       "      <td>NaN</td>\n",
       "      <td>3.0</td>\n",
       "      <td>10.0</td>\n",
       "      <td>42.0</td>\n",
       "      <td>32.0</td>\n",
       "      <td>4.0</td>\n",
       "    </tr>\n",
       "    <tr>\n",
       "      <th>2014</th>\n",
       "      <td>NaN</td>\n",
       "      <td>NaN</td>\n",
       "      <td>NaN</td>\n",
       "      <td>NaN</td>\n",
       "      <td>19.0</td>\n",
       "      <td>38.0</td>\n",
       "      <td>31.0</td>\n",
       "      <td>10.0</td>\n",
       "    </tr>\n",
       "    <tr>\n",
       "      <th>2015</th>\n",
       "      <td>NaN</td>\n",
       "      <td>NaN</td>\n",
       "      <td>1.0</td>\n",
       "      <td>6.0</td>\n",
       "      <td>22.0</td>\n",
       "      <td>56.0</td>\n",
       "      <td>36.0</td>\n",
       "      <td>6.0</td>\n",
       "    </tr>\n",
       "    <tr>\n",
       "      <th>2016</th>\n",
       "      <td>NaN</td>\n",
       "      <td>1.0</td>\n",
       "      <td>8.0</td>\n",
       "      <td>18.0</td>\n",
       "      <td>68.0</td>\n",
       "      <td>111.0</td>\n",
       "      <td>82.0</td>\n",
       "      <td>9.0</td>\n",
       "    </tr>\n",
       "  </tbody>\n",
       "</table>\n",
       "</div>"
      ],
      "text/plain": [
       "rating_group  (1, 2]  (2, 3]  (3, 4]  (4, 5]  (5, 6]  (6, 7]  (7, 8]  (8, 9]\n",
       "Year                                                                        \n",
       "2006             NaN     NaN     NaN     NaN     4.0    18.0    18.0     4.0\n",
       "2007             NaN     NaN     NaN     1.0     4.0    11.0    32.0     5.0\n",
       "2008             1.0     NaN     NaN     1.0     6.0    22.0    19.0     3.0\n",
       "2009             NaN     1.0     NaN     1.0     7.0    16.0    21.0     5.0\n",
       "2010             NaN     NaN     NaN     3.0     7.0    25.0    20.0     5.0\n",
       "2011             NaN     NaN     NaN     2.0     8.0    25.0    24.0     4.0\n",
       "2012             NaN     NaN     NaN     NaN     8.0    27.0    25.0     4.0\n",
       "2013             NaN     NaN     NaN     3.0    10.0    42.0    32.0     4.0\n",
       "2014             NaN     NaN     NaN     NaN    19.0    38.0    31.0    10.0\n",
       "2015             NaN     NaN     1.0     6.0    22.0    56.0    36.0     6.0\n",
       "2016             NaN     1.0     8.0    18.0    68.0   111.0    82.0     9.0"
      ]
     },
     "execution_count": 28,
     "metadata": {},
     "output_type": "execute_result"
    }
   ],
   "source": [
    "# Make a chart to show the number of films in each rating group per year\n",
    "\n",
    "df.groupby('Year')[\"rating_group\"].value_counts().unstack()\n"
   ]
  },
  {
   "cell_type": "code",
   "execution_count": null,
   "id": "290b4b49",
   "metadata": {},
   "outputs": [],
   "source": []
  },
  {
   "cell_type": "code",
   "execution_count": 29,
   "id": "7bda2acd",
   "metadata": {},
   "outputs": [
    {
     "data": {
      "image/png": "[encoded data removed]",
      "text/plain": [
       "<Figure size 432x288 with 1 Axes>"
      ]
     },
     "metadata": {
      "needs_background": "light"
     },
     "output_type": "display_data"
    }
   ],
   "source": [
    "sns.boxplot(data=df,x='Year', y='Revenue (Millions)')\n",
    "plt.show()"
   ]
  },
  {
   "cell_type": "markdown",
   "id": "f083278f",
   "metadata": {},
   "source": [
    "Each year, which rating range(s) is the most concentrated? Does this match your results from the box and scatter plots above?"
   ]
  }
 ],
 "metadata": {
  "kernelspec": {
   "display_name": "Python 3 (ipykernel)",
   "language": "python",
   "name": "python3"
  },
  "language_info": {
   "codemirror_mode": {
    "name": "ipython",
    "version": 3
   },
   "file_extension": ".py",
   "mimetype": "text/x-python",
   "name": "python",
   "nbconvert_exporter": "python",
   "pygments_lexer": "ipython3",
   "version": "3.9.12"
  }
 },
 "nbformat": 4,
 "nbformat_minor": 5
}
